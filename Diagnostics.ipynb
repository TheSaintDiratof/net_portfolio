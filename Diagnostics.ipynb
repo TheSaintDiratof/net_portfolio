{
 "cells": [
  {
   "cell_type": "code",
   "execution_count": 1,
   "id": "3c97a143-d5ff-4c5e-b7b5-20f34c0f2160",
   "metadata": {
    "id": "3c97a143-d5ff-4c5e-b7b5-20f34c0f2160",
    "outputId": "8984611e-5d99-4d43-ca08-073c69511139"
   },
   "outputs": [
    {
     "name": "stdout",
     "output_type": "stream",
     "text": [
      "Интерфейс: lo\n",
      "  Активен: True\n",
      "  Скорость: 0 Мбит/с\n",
      "  Дуплексный режим: Неизвестно\n",
      "  MTU: 65536\n",
      "\n",
      "Интерфейс: enp0s31f6\n",
      "  Активен: False\n",
      "  Скорость: 0 Мбит/с\n",
      "  Дуплексный режим: Неизвестно\n",
      "  MTU: 1500\n",
      "\n",
      "Интерфейс: wlp3s0\n",
      "  Активен: True\n",
      "  Скорость: 0 Мбит/с\n",
      "  Дуплексный режим: Неизвестно\n",
      "  MTU: 1500\n",
      "\n"
     ]
    }
   ],
   "source": [
    "# L1\n",
    "\n",
    "# Импортируем библиотеку psutil для работы с системной информацией\n",
    "import psutil\n",
    "\n",
    "# Получаем информацию о состоянии всех сетевых интерфейсов (адаптеров)\n",
    "interfaces = psutil.net_if_stats()\n",
    "\n",
    "# Проходим по всем интерфейсам и выводим информацию\n",
    "for interface, stats in interfaces.items():\n",
    "    # Выводим имя интерфейса (адаптера)\n",
    "    print(f\"Интерфейс: {interface}\")\n",
    "\n",
    "    # Проверяем, активен ли интерфейс\n",
    "    print(f\"  Активен: {stats.isup}\")\n",
    "\n",
    "    # Выводим скорость интерфейса в Мбит/с\n",
    "    print(f\"  Скорость: {stats.speed} Мбит/с\")\n",
    "\n",
    "    # Определяем дуплексный режим\n",
    "    if stats.duplex == 2:\n",
    "        duplex_mode = 'Полный'  # Полный дуплекс\n",
    "    elif stats.duplex == 1:\n",
    "        duplex_mode = 'Полудуплексный'  # Полудуплексный режим\n",
    "    else:\n",
    "        duplex_mode = 'Неизвестно'  # Неизвестный режим\n",
    "\n",
    "    # Выводим дуплексный режим\n",
    "    print(f\"  Дуплексный режим: {duplex_mode}\")\n",
    "\n",
    "    # Выводим максимальный размер пакета (MTU)\n",
    "    print(f\"  MTU: {stats.mtu}\\n\")  # Отображаем MTU и добавляем пустую строку для разделения"
   ]
  },
  {
   "cell_type": "code",
   "execution_count": 1,
   "id": "f153c365-9f64-4fde-9ed3-06e2c9a2fc96",
   "metadata": {
    "id": "f153c365-9f64-4fde-9ed3-06e2c9a2fc96"
   },
   "outputs": [
    {
     "name": "stderr",
     "output_type": "stream",
     "text": [
      "/nix/store/fli0k2m0i1cb94v42iw1cmvayybbplmr-python3.12-scapy-2.5.0/lib/python3.12/site-packages/scapy/layers/ipsec.py:512: CryptographyDeprecationWarning: TripleDES has been moved to cryptography.hazmat.decrepit.ciphers.algorithms.TripleDES and will be removed from this module in 48.0.0.\n",
      "  cipher=algorithms.TripleDES,\n",
      "/nix/store/fli0k2m0i1cb94v42iw1cmvayybbplmr-python3.12-scapy-2.5.0/lib/python3.12/site-packages/scapy/layers/ipsec.py:516: CryptographyDeprecationWarning: TripleDES has been moved to cryptography.hazmat.decrepit.ciphers.algorithms.TripleDES and will be removed from this module in 48.0.0.\n",
      "  cipher=algorithms.TripleDES,\n"
     ]
    },
    {
     "name": "stdout",
     "output_type": "stream",
     "text": [
      "Начинаем перехват кадров...\n",
      "\n"
     ]
    },
    {
     "ename": "PermissionError",
     "evalue": "[Errno 1] Operation not permitted",
     "output_type": "error",
     "traceback": [
      "\u001b[0;31m---------------------------------------------------------------------------\u001b[0m",
      "\u001b[0;31mPermissionError\u001b[0m                           Traceback (most recent call last)",
      "Cell \u001b[0;32mIn[1], line 31\u001b[0m\n\u001b[1;32m     29\u001b[0m \u001b[38;5;66;03m# Начинаем перехват кадров\u001b[39;00m\n\u001b[1;32m     30\u001b[0m \u001b[38;5;28mprint\u001b[39m(\u001b[38;5;124m\"\u001b[39m\u001b[38;5;124mНачинаем перехват кадров...\u001b[39m\u001b[38;5;130;01m\\n\u001b[39;00m\u001b[38;5;124m\"\u001b[39m)\n\u001b[0;32m---> 31\u001b[0m \u001b[43msniff\u001b[49m\u001b[43m(\u001b[49m\u001b[43mprn\u001b[49m\u001b[38;5;241;43m=\u001b[39;49m\u001b[43mframe_handler\u001b[49m\u001b[43m,\u001b[49m\u001b[43m \u001b[49m\u001b[43mcount\u001b[49m\u001b[38;5;241;43m=\u001b[39;49m\u001b[38;5;241;43m2\u001b[39;49m\u001b[43m)\u001b[49m  \u001b[38;5;66;03m# Перехватываем 2 кадра\u001b[39;00m\n",
      "File \u001b[0;32m/nix/store/fli0k2m0i1cb94v42iw1cmvayybbplmr-python3.12-scapy-2.5.0/lib/python3.12/site-packages/scapy/sendrecv.py:1311\u001b[0m, in \u001b[0;36msniff\u001b[0;34m(*args, **kwargs)\u001b[0m\n\u001b[1;32m   1307\u001b[0m \u001b[38;5;129m@conf\u001b[39m\u001b[38;5;241m.\u001b[39mcommands\u001b[38;5;241m.\u001b[39mregister\n\u001b[1;32m   1308\u001b[0m \u001b[38;5;28;01mdef\u001b[39;00m \u001b[38;5;21msniff\u001b[39m(\u001b[38;5;241m*\u001b[39margs, \u001b[38;5;241m*\u001b[39m\u001b[38;5;241m*\u001b[39mkwargs):\n\u001b[1;32m   1309\u001b[0m     \u001b[38;5;66;03m# type: (*Any, **Any) -> PacketList\u001b[39;00m\n\u001b[1;32m   1310\u001b[0m     sniffer \u001b[38;5;241m=\u001b[39m AsyncSniffer()\n\u001b[0;32m-> 1311\u001b[0m     \u001b[43msniffer\u001b[49m\u001b[38;5;241;43m.\u001b[39;49m\u001b[43m_run\u001b[49m\u001b[43m(\u001b[49m\u001b[38;5;241;43m*\u001b[39;49m\u001b[43margs\u001b[49m\u001b[43m,\u001b[49m\u001b[43m \u001b[49m\u001b[38;5;241;43m*\u001b[39;49m\u001b[38;5;241;43m*\u001b[39;49m\u001b[43mkwargs\u001b[49m\u001b[43m)\u001b[49m\n\u001b[1;32m   1312\u001b[0m     \u001b[38;5;28;01mreturn\u001b[39;00m cast(PacketList, sniffer\u001b[38;5;241m.\u001b[39mresults)\n",
      "File \u001b[0;32m/nix/store/fli0k2m0i1cb94v42iw1cmvayybbplmr-python3.12-scapy-2.5.0/lib/python3.12/site-packages/scapy/sendrecv.py:1171\u001b[0m, in \u001b[0;36mAsyncSniffer._run\u001b[0;34m(self, count, store, offline, quiet, prn, lfilter, L2socket, timeout, opened_socket, stop_filter, iface, started_callback, session, session_kwargs, **karg)\u001b[0m\n\u001b[1;32m   1169\u001b[0m     \u001b[38;5;28;01melse\u001b[39;00m:\n\u001b[1;32m   1170\u001b[0m         iface \u001b[38;5;241m=\u001b[39m iface \u001b[38;5;129;01mor\u001b[39;00m conf\u001b[38;5;241m.\u001b[39miface\n\u001b[0;32m-> 1171\u001b[0m         sniff_sockets[\u001b[43m_RL2\u001b[49m\u001b[43m(\u001b[49m\u001b[43miface\u001b[49m\u001b[43m)\u001b[49m\u001b[43m(\u001b[49m\u001b[38;5;28;43mtype\u001b[39;49m\u001b[38;5;241;43m=\u001b[39;49m\u001b[43mETH_P_ALL\u001b[49m\u001b[43m,\u001b[49m\u001b[43m \u001b[49m\u001b[43miface\u001b[49m\u001b[38;5;241;43m=\u001b[39;49m\u001b[43miface\u001b[49m\u001b[43m,\u001b[49m\n\u001b[1;32m   1172\u001b[0m \u001b[43m                                  \u001b[49m\u001b[38;5;241;43m*\u001b[39;49m\u001b[38;5;241;43m*\u001b[39;49m\u001b[43mkarg\u001b[49m\u001b[43m)\u001b[49m] \u001b[38;5;241m=\u001b[39m iface\n\u001b[1;32m   1174\u001b[0m \u001b[38;5;66;03m# Get select information from the sockets\u001b[39;00m\n\u001b[1;32m   1175\u001b[0m _main_socket \u001b[38;5;241m=\u001b[39m \u001b[38;5;28mnext\u001b[39m(\u001b[38;5;28miter\u001b[39m(sniff_sockets))\n",
      "File \u001b[0;32m/nix/store/fli0k2m0i1cb94v42iw1cmvayybbplmr-python3.12-scapy-2.5.0/lib/python3.12/site-packages/scapy/arch/linux.py:484\u001b[0m, in \u001b[0;36mL2Socket.__init__\u001b[0;34m(self, iface, type, promisc, filter, nofilter, monitor)\u001b[0m\n\u001b[1;32m    482\u001b[0m \u001b[38;5;28mself\u001b[39m\u001b[38;5;241m.\u001b[39mtype \u001b[38;5;241m=\u001b[39m \u001b[38;5;28mtype\u001b[39m\n\u001b[1;32m    483\u001b[0m \u001b[38;5;28mself\u001b[39m\u001b[38;5;241m.\u001b[39mpromisc \u001b[38;5;241m=\u001b[39m conf\u001b[38;5;241m.\u001b[39msniff_promisc \u001b[38;5;28;01mif\u001b[39;00m promisc \u001b[38;5;129;01mis\u001b[39;00m \u001b[38;5;28;01mNone\u001b[39;00m \u001b[38;5;28;01melse\u001b[39;00m promisc\n\u001b[0;32m--> 484\u001b[0m \u001b[38;5;28mself\u001b[39m\u001b[38;5;241m.\u001b[39mins \u001b[38;5;241m=\u001b[39m \u001b[43msocket\u001b[49m\u001b[38;5;241;43m.\u001b[39;49m\u001b[43msocket\u001b[49m\u001b[43m(\u001b[49m\n\u001b[1;32m    485\u001b[0m \u001b[43m    \u001b[49m\u001b[43msocket\u001b[49m\u001b[38;5;241;43m.\u001b[39;49m\u001b[43mAF_PACKET\u001b[49m\u001b[43m,\u001b[49m\u001b[43m \u001b[49m\u001b[43msocket\u001b[49m\u001b[38;5;241;43m.\u001b[39;49m\u001b[43mSOCK_RAW\u001b[49m\u001b[43m,\u001b[49m\u001b[43m \u001b[49m\u001b[43msocket\u001b[49m\u001b[38;5;241;43m.\u001b[39;49m\u001b[43mhtons\u001b[49m\u001b[43m(\u001b[49m\u001b[38;5;28;43mtype\u001b[39;49m\u001b[43m)\u001b[49m\u001b[43m)\u001b[49m\n\u001b[1;32m    486\u001b[0m \u001b[38;5;28mself\u001b[39m\u001b[38;5;241m.\u001b[39mins\u001b[38;5;241m.\u001b[39msetsockopt(socket\u001b[38;5;241m.\u001b[39mSOL_SOCKET, socket\u001b[38;5;241m.\u001b[39mSO_RCVBUF, \u001b[38;5;241m0\u001b[39m)\n\u001b[1;32m    487\u001b[0m \u001b[38;5;28;01mif\u001b[39;00m \u001b[38;5;129;01mnot\u001b[39;00m nofilter:\n",
      "File \u001b[0;32m/nix/store/wfbjq35kxs6x83c3ncpfxdyl5gbhdx4h-python3-3.12.6/lib/python3.12/socket.py:233\u001b[0m, in \u001b[0;36msocket.__init__\u001b[0;34m(self, family, type, proto, fileno)\u001b[0m\n\u001b[1;32m    231\u001b[0m     \u001b[38;5;28;01mif\u001b[39;00m proto \u001b[38;5;241m==\u001b[39m \u001b[38;5;241m-\u001b[39m\u001b[38;5;241m1\u001b[39m:\n\u001b[1;32m    232\u001b[0m         proto \u001b[38;5;241m=\u001b[39m \u001b[38;5;241m0\u001b[39m\n\u001b[0;32m--> 233\u001b[0m \u001b[43m_socket\u001b[49m\u001b[38;5;241;43m.\u001b[39;49m\u001b[43msocket\u001b[49m\u001b[38;5;241;43m.\u001b[39;49m\u001b[38;5;21;43m__init__\u001b[39;49m\u001b[43m(\u001b[49m\u001b[38;5;28;43mself\u001b[39;49m\u001b[43m,\u001b[49m\u001b[43m \u001b[49m\u001b[43mfamily\u001b[49m\u001b[43m,\u001b[49m\u001b[43m \u001b[49m\u001b[38;5;28;43mtype\u001b[39;49m\u001b[43m,\u001b[49m\u001b[43m \u001b[49m\u001b[43mproto\u001b[49m\u001b[43m,\u001b[49m\u001b[43m \u001b[49m\u001b[43mfileno\u001b[49m\u001b[43m)\u001b[49m\n\u001b[1;32m    234\u001b[0m \u001b[38;5;28mself\u001b[39m\u001b[38;5;241m.\u001b[39m_io_refs \u001b[38;5;241m=\u001b[39m \u001b[38;5;241m0\u001b[39m\n\u001b[1;32m    235\u001b[0m \u001b[38;5;28mself\u001b[39m\u001b[38;5;241m.\u001b[39m_closed \u001b[38;5;241m=\u001b[39m \u001b[38;5;28;01mFalse\u001b[39;00m\n",
      "\u001b[0;31mPermissionError\u001b[0m: [Errno 1] Operation not permitted"
     ]
    }
   ],
   "source": [
    "# L2\n",
    "\n",
    "from scapy.all import sniff, Ether\n",
    "\n",
    "# Функция для обработки перехваченных кадров\n",
    "def frame_handler(frame):\n",
    "    # Проверяем наличие Ethernet слоя\n",
    "    if frame.haslayer(Ether):\n",
    "        eth_layer = frame[Ether]\n",
    "\n",
    "        # Извлекаем поля Ethernet-фрейма\n",
    "        src_mac = eth_layer.src\n",
    "        dst_mac = eth_layer.dst\n",
    "        eth_type = eth_layer.type\n",
    "        payload = eth_layer.payload\n",
    "        crc = b'\\x00\\x00\\x00\\x00'  # Пример контрольной суммы\n",
    "\n",
    "        # Форматируем вывод Ethernet фрейма в виде таблицы\n",
    "        print(\"\\n=== Ethernet Frame ===\")\n",
    "        print(\"-\" * 40)\n",
    "        print(f\"| {'MAC-адрес источника:':<30} | {src_mac} (6 байт) |\")\n",
    "        print(f\"| {'MAC-адрес назначения:':<30} | {dst_mac} (6 байт) |\")\n",
    "        print(f\"| {'Тип протокола:':<30} | {eth_type} (0x{eth_type:X}) (2 байта) |\")\n",
    "        print(f\"| {'Поле данных:':<30} | {bytes(payload)} ({len(payload)} байт) |\")\n",
    "        print(f\"| {'Контрольная сумма (CRC):':<30} | {crc} (4 байта) |\")\n",
    "        print(f\"| {'Размер Ethernet заголовка:':<30} | {len(eth_layer)} байт |\")\n",
    "        print(\"-\" * 40)\n",
    "\n",
    "# Начинаем перехват кадров\n",
    "print(\"Начинаем перехват кадров...\\n\")\n",
    "sniff(prn=frame_handler, count=2)  # Перехватываем 2 кадра\n"
   ]
  },
  {
   "cell_type": "raw",
   "id": "03b78ec2-2aaa-4965-a579-d0a93b86ae86",
   "metadata": {
    "id": "03b78ec2-2aaa-4965-a579-d0a93b86ae86"
   },
   "source": [
    "=== Ethernet Frame ===\n",
    "----------------------------------------\n",
    "| MAC-адрес источника:           | 00:1a:2b:3c:4d:5e (6 байт) |\n",
    "| MAC-адрес назначения:          | c0:ff:ee:12:34:56 (6 байт) |\n",
    "| Тип протокола:                 | 2048 (0x800) (2 байта) |\n",
    "| Поле данных:                   | b'E\\x00\\' (41 байт) |\n",
    "\n",
    "| Контрольная сумма (CRC):       | b'\\x00\\x00\\x00\\x00' (4 байта) |\n",
    "| Размер Ethernet заголовка:     | 55 байт |\n",
    "----------------------------------------\n",
    "\n",
    "=== Ethernet Frame ===\n",
    "----------------------------------------\n",
    "| MAC-адрес источника:           | c0:ff:ee:12:34:56 (6 байт) |\n",
    "| MAC-адрес назначения:          | 00:1a:2b:3c:4d:5e (6 байт) |\n",
    "| Тип протокола:                 | 34525 (0x86DD) (2 байта) |\n",
    "| Поле данных:                   | b'`\\x06P\\xd2\\x00...' (72 байт) |\n",
    "\n",
    "| Контрольная сумма (CRC):       | b'\\x00\\x00\\x00\\x00' (4 байта) |\n",
    "| Размер Ethernet заголовка:     | 86 байт |\n",
    "----------------------------------------"
   ]
  },
  {
   "cell_type": "code",
   "execution_count": 3,
   "id": "9948365d-98a4-4296-aaca-7e85946bba62",
   "metadata": {
    "id": "9948365d-98a4-4296-aaca-7e85946bba62"
   },
   "outputs": [
    {
     "ename": "ModuleNotFoundError",
     "evalue": "No module named 'scapy'",
     "output_type": "error",
     "traceback": [
      "\u001b[0;31m---------------------------------------------------------------------------\u001b[0m",
      "\u001b[0;31mModuleNotFoundError\u001b[0m                       Traceback (most recent call last)",
      "Cell \u001b[0;32mIn[3], line 3\u001b[0m\n\u001b[1;32m      1\u001b[0m \u001b[38;5;66;03m# 3. Сетевой\u001b[39;00m\n\u001b[0;32m----> 3\u001b[0m \u001b[38;5;28;01mfrom\u001b[39;00m \u001b[38;5;21;01mscapy\u001b[39;00m\u001b[38;5;21;01m.\u001b[39;00m\u001b[38;5;21;01mall\u001b[39;00m \u001b[38;5;28;01mimport\u001b[39;00m sniff, IP, IPv6, ICMP\n\u001b[1;32m      5\u001b[0m \u001b[38;5;66;03m# Функция для обработки перехваченных пакетов\u001b[39;00m\n\u001b[1;32m      6\u001b[0m \u001b[38;5;28;01mdef\u001b[39;00m \u001b[38;5;21mpacket_handler\u001b[39m(packet):\n\u001b[1;32m      7\u001b[0m     \u001b[38;5;66;03m# Проверяем наличие IP-слоя\u001b[39;00m\n",
      "\u001b[0;31mModuleNotFoundError\u001b[0m: No module named 'scapy'"
     ]
    }
   ],
   "source": [
    "# 3. Сетевой\n",
    "\n",
    "from scapy.all import sniff, IP, IPv6, ICMP\n",
    "\n",
    "# Функция для обработки перехваченных пакетов\n",
    "def packet_handler(packet):\n",
    "    # Проверяем наличие IP-слоя\n",
    "    if packet.haslayer(IP):\n",
    "        ip_layer = packet[IP]\n",
    "        print(\"\\n=== IPv4 Packet ===\")\n",
    "        print(\"-\" * 40)\n",
    "        print(f\"| {'Версия:':<30} | {ip_layer.version} (IPv4) |\")  # 4 бита\n",
    "        print(f\"| {'Длина заголовка:':<30} | {ip_layer.ihl * 4} байт |\")  # 4 бита\n",
    "        print(f\"| {'Тип обслуживания:':<30} | {ip_layer.tos} |\")  # 8 бит\n",
    "        print(f\"| {'Длина пакета:':<30} | {len(packet)} байт |\")  # 16 бит\n",
    "        print(f\"| {'Идентификация:':<30} | {ip_layer.id} |\")  # 16 бит\n",
    "        print(f\"| {'Флаги:':<30} | {ip_layer.flags} |\")  # 3 бита\n",
    "        print(f\"| {'Смещение фрагмента:':<30} | {ip_layer.frag} |\")  # 13 бит\n",
    "        print(f\"| {'TTL:':<30} | {ip_layer.ttl} |\")  # 8 бит\n",
    "        print(f\"| {'Протокол:':<30} | {ip_layer.proto} (0x{ip_layer.proto:X}) |\")  # 8 бит\n",
    "        print(f\"| {'Контрольная сумма:':<30} | {ip_layer.chksum} |\")  # 16 бит\n",
    "        print(f\"| {'Источник IP:':<30} | {ip_layer.src} |\")  # 32 бит\n",
    "        print(f\"| {'Назначение IP:':<30} | {ip_layer.dst} |\")  # 32 бит\n",
    "        print(\"-\" * 40)\n",
    "\n",
    "    # Проверяем наличие IPv6-слоя\n",
    "    elif packet.haslayer(IPv6):\n",
    "        ipv6_layer = packet[IPv6]\n",
    "        print(\"\\n=== IPv6 Packet ===\")\n",
    "        print(\"-\" * 40)\n",
    "        print(f\"| {'Версия:':<30} | {ipv6_layer.version} (IPv6) |\")  # 4 бита\n",
    "        print(f\"| {'Traffic Class:':<30} | {ipv6_layer.tc} |\")  # 8 бит\n",
    "        print(f\"| {'Flow Label:':<30} | {ipv6_layer.fl} |\")  # 20 бит\n",
    "        print(f\"| {'Длина полезной нагрузки:':<30} | {len(ipv6_layer.payload)} байт |\")  # 16 бит\n",
    "        print(f\"| {'Следующий заголовок:':<30} | {ipv6_layer.nh} (0x{ipv6_layer.nh:X}) |\")  # 8 бит\n",
    "        print(f\"| {'TTL:':<30} | {ipv6_layer.hlim} |\")  # 8 бит\n",
    "        print(f\"| {'Источник IPv6:':<30} | {ipv6_layer.src} |\")  # 128 бит\n",
    "        print(f\"| {'Назначение IPv6:':<30} | {ipv6_layer.dst} |\")  # 128 бит\n",
    "        print(\"-\" * 40)\n",
    "\n",
    "# Начинаем перехват пакетов\n",
    "print(\"Начинаем перехват пакетов...\\n\")\n",
    "sniff(prn=packet_handler, count=2)  # Перехватываем 2 пакета"
   ]
  },
  {
   "cell_type": "code",
   "execution_count": null,
   "id": "458352a0-7903-45f1-b22f-f2a7deef808a",
   "metadata": {
    "id": "458352a0-7903-45f1-b22f-f2a7deef808a"
   },
   "outputs": [],
   "source": [
    "=== IPv4 Packet ===\n",
    "----------------------------------------\n",
    "| Версия:                        | 4 (IPv4) |\n",
    "| Длина заголовка:               | 20 байт |\n",
    "| Тип обслуживания:              | 0 |\n",
    "| Длина пакета:                  | 85 байт |\n",
    "| Идентификация:                 | 14608 |\n",
    "| Флаги:                         | DF |\n",
    "| Смещение фрагмента:            | 0 |\n",
    "| TTL:                           | 51 |\n",
    "| Протокол:                      | 6 (0x6) |\n",
    "| Контрольная сумма:             | 57608 |\n",
    "| Источник IP:                   | 172.16.254.1 |\n",
    "| Назначение IP:                 | 203.0.113.7 |\n",
    "----------------------------------------\n",
    "\n",
    "=== IPv4 Packet ===\n",
    "----------------------------------------\n",
    "| Версия:                        | 4 (IPv4) |\n",
    "| Длина заголовка:               | 20 байт |\n",
    "| Тип обслуживания:              | 0 |\n",
    "| Длина пакета:                  | 54 байт |\n",
    "| Идентификация:                 | 14609 |\n",
    "| Флаги:                         | DF |\n",
    "| Смещение фрагмента:            | 0 |\n",
    "| TTL:                           | 51 |\n",
    "| Протокол:                      | 6 (0x6) |\n",
    "| Контрольная сумма:             | 57638 |\n",
    "| Источник IP:                   | 192.0.2.100 |\n",
    "| Назначение IP:                 | 172.31.100.50 |\n",
    "----------------------------------------"
   ]
  },
  {
   "cell_type": "code",
   "execution_count": 4,
   "id": "5daf7bb2-af3f-44c0-9a1b-2ff789af85c9",
   "metadata": {
    "id": "5daf7bb2-af3f-44c0-9a1b-2ff789af85c9"
   },
   "outputs": [
    {
     "name": "stdout",
     "output_type": "stream",
     "text": [
      "UDP сервер запущен. Ожидание датаграмм...\n"
     ]
    },
    {
     "ename": "KeyboardInterrupt",
     "evalue": "",
     "output_type": "error",
     "traceback": [
      "\u001b[0;31m---------------------------------------------------------------------------\u001b[0m",
      "\u001b[0;31mKeyboardInterrupt\u001b[0m                         Traceback (most recent call last)",
      "Cell \u001b[0;32mIn[4], line 21\u001b[0m\n\u001b[1;32m     18\u001b[0m         server_socket\u001b[38;5;241m.\u001b[39msendto(response\u001b[38;5;241m.\u001b[39mencode(), addr)\n\u001b[1;32m     20\u001b[0m \u001b[38;5;66;03m# Запуск сервера\u001b[39;00m\n\u001b[0;32m---> 21\u001b[0m \u001b[43mstart_udp_server\u001b[49m\u001b[43m(\u001b[49m\u001b[43m)\u001b[49m\n\u001b[1;32m     24\u001b[0m \u001b[38;5;66;03m# udp_client.py\u001b[39;00m\n\u001b[1;32m     26\u001b[0m \u001b[38;5;28;01mimport\u001b[39;00m \u001b[38;5;21;01msocket\u001b[39;00m\n",
      "Cell \u001b[0;32mIn[4], line 14\u001b[0m, in \u001b[0;36mstart_udp_server\u001b[0;34m()\u001b[0m\n\u001b[1;32m     12\u001b[0m \u001b[38;5;66;03m# Получение и обработка датаграмм\u001b[39;00m\n\u001b[1;32m     13\u001b[0m \u001b[38;5;28;01mwhile\u001b[39;00m \u001b[38;5;28;01mTrue\u001b[39;00m:\n\u001b[0;32m---> 14\u001b[0m     data, addr \u001b[38;5;241m=\u001b[39m \u001b[43mserver_socket\u001b[49m\u001b[38;5;241;43m.\u001b[39;49m\u001b[43mrecvfrom\u001b[49m\u001b[43m(\u001b[49m\u001b[38;5;241;43m1024\u001b[39;49m\u001b[43m)\u001b[49m\n\u001b[1;32m     15\u001b[0m     datagram \u001b[38;5;241m=\u001b[39m data\u001b[38;5;241m.\u001b[39mdecode()\n\u001b[1;32m     16\u001b[0m     \u001b[38;5;28mprint\u001b[39m(\u001b[38;5;124mf\u001b[39m\u001b[38;5;124m\"\u001b[39m\u001b[38;5;124mПолучена датаграмма от \u001b[39m\u001b[38;5;132;01m{\u001b[39;00maddr\u001b[38;5;132;01m}\u001b[39;00m\u001b[38;5;124m: \u001b[39m\u001b[38;5;132;01m{\u001b[39;00mdatagram\u001b[38;5;132;01m}\u001b[39;00m\u001b[38;5;124m\"\u001b[39m)\n",
      "\u001b[0;31mKeyboardInterrupt\u001b[0m: "
     ]
    }
   ],
   "source": [
    "# 4. Транспортный (transport)\n",
    "\n",
    "#udp_server.py\n",
    "import socket\n",
    "\n",
    "def start_udp_server():\n",
    "    # Создаем UDP сокет\n",
    "    server_socket = socket.socket(socket.AF_INET, socket.SOCK_DGRAM)\n",
    "    server_socket.bind(('localhost', 5000))\n",
    "    print(\"UDP сервер запущен. Ожидание датаграмм...\")\n",
    "\n",
    "    # Получение и обработка датаграмм\n",
    "    while True:\n",
    "        data, addr = server_socket.recvfrom(1024)\n",
    "        datagram = data.decode()\n",
    "        print(f\"Получена датаграмма от {addr}: {datagram}\")\n",
    "        response = f\"Датаграмма '{datagram}' получена.\"\n",
    "        server_socket.sendto(response.encode(), addr)\n",
    "\n",
    "# Запуск сервера\n",
    "start_udp_server()\n",
    "\n",
    "\n",
    "# udp_client.py\n",
    "\n",
    "import socket\n",
    "\n",
    "def run_udp_client():\n",
    "    # Создаем UDP сокет\n",
    "    client_socket = socket.socket(socket.AF_INET, socket.SOCK_DGRAM)\n",
    "\n",
    "    # Отправка датаграмм\n",
    "    while True:\n",
    "        message = input(\"Введите датаграмму (или 'exit' для выхода): \")\n",
    "        if message.lower() == 'exit':\n",
    "            break\n",
    "        client_socket.sendto(message.encode(), ('localhost', 5000))\n",
    "\n",
    "        # Получение ответа\n",
    "        data, addr = client_socket.recvfrom(1024)\n",
    "        print(\"Ответ от сервера:\", data.decode())\n",
    "\n",
    "    # Закрытие соединения\n",
    "    client_socket.close()\n",
    "\n",
    "# Запуск клиента\n",
    "run_udp_client()"
   ]
  },
  {
   "cell_type": "code",
   "execution_count": 5,
   "id": "f5b821b5-2912-44fa-a070-932b73711dfc",
   "metadata": {
    "id": "f5b821b5-2912-44fa-a070-932b73711dfc"
   },
   "outputs": [
    {
     "ename": "SyntaxError",
     "evalue": "invalid syntax (3390683632.py, line 4)",
     "output_type": "error",
     "traceback": [
      "\u001b[0;36m  Cell \u001b[0;32mIn[5], line 4\u001b[0;36m\u001b[0m\n\u001b[0;31m    // Указываем, что используем синтаксис версии 3 Protocol Buffers\u001b[0m\n\u001b[0m    ^\u001b[0m\n\u001b[0;31mSyntaxError\u001b[0m\u001b[0;31m:\u001b[0m invalid syntax\n"
     ]
    }
   ],
   "source": [
    "# 5. Сеансовый (session)\n",
    "\n",
    "#1\n",
    "// Указываем, что используем синтаксис версии 3 Protocol Buffers\n",
    "syntax = \"proto3\";\n",
    "\n",
    "// Определяем сервис SessionManager\n",
    "service SessionManager {\n",
    "    // Определяем метод StartSession, который принимает SessionRequest и возвращает SessionResponse\n",
    "    rpc StartSession (SessionRequest) returns (SessionResponse);\n",
    "\n",
    "    // Определяем метод EndSession, аналогичный StartSession\n",
    "    rpc EndSession (SessionRequest) returns (SessionResponse);\n",
    "}\n",
    "\n",
    "// Описание структуры сообщения для запроса сессии\n",
    "message SessionRequest {\n",
    "    string session_id = 1; // Поле session_id, которое содержит идентификатор сессии\n",
    "}\n",
    "\n",
    "// Описание структуры сообщения для ответа\n",
    "message SessionResponse {\n",
    "    string message = 1; // Поле message, которое будет содержать сообщение о статусе\n",
    "}\n",
    "\n",
    "#2\n",
    "#Эта команда генерирует Python-файлы (session_pb2.py и session_pb2_grpc.py) на основе описания сервиса и сообщений в session.proto.\n",
    "!python -m grpc_tools.protoc -I. --python_out=. --grpc_python_out=. session.proto\n",
    "\n",
    "# server.py\n",
    "import grpc\n",
    "from concurrent import futures\n",
    "import session_pb2\n",
    "import session_pb2_grpc\n",
    "\n",
    "# Реализация сервиса SessionManager\n",
    "class SessionManager(session_pb2_grpc.SessionManagerServicer):\n",
    "    # Реализация метода StartSession\n",
    "    def StartSession(self, request, context):\n",
    "        # Возвращаем сообщение о том, что сессия запущена\n",
    "        return session_pb2.SessionResponse(message=f\"Сессия {request.session_id} запущена.\")\n",
    "\n",
    "    # Реализация метода EndSession\n",
    "    def EndSession(self, request, context):\n",
    "        # Возвращаем сообщение о том, что сессия завершена\n",
    "        return session_pb2.SessionResponse(message=f\"Сессия {request.session_id} завершена.\")\n",
    "\n",
    "# Функция для запуска сервера\n",
    "def serve():\n",
    "    # Создаем gRPC сервер с многопоточностью\n",
    "    server = grpc.server(futures.ThreadPoolExecutor(max_workers=10))\n",
    "    # Регистрируем сервис SessionManager на сервере\n",
    "    session_pb2_grpc.add_SessionManagerServicer_to_server(SessionManager(), server)\n",
    "    # Указываем порт, на котором будет работать сервер\n",
    "    server.add_insecure_port('[::]:50051')\n",
    "    server.start()  # Запускаем сервер\n",
    "    print(\"gRPC сервер запущен на порту 50051...\")\n",
    "    server.wait_for_termination()  # Ожидаем завершения работы сервера\n",
    "\n",
    "# Запуск сервера\n",
    "serve()\n",
    "\n",
    "\n",
    "# client.py\n",
    "import grpc\n",
    "import session_pb2\n",
    "import session_pb2_grpc\n",
    "\n",
    "# Функция для запуска клиента\n",
    "def run():\n",
    "    # Создаем соединение с gRPC сервером\n",
    "    with grpc.insecure_channel('localhost:50051') as channel:\n",
    "        # Создаем \"stub\" для общения с сервисом SessionManager\n",
    "        stub = session_pb2_grpc.SessionManagerStub(channel)\n",
    "        session_id = \"12345\"  # Идентификатор сессии\n",
    "\n",
    "        # Отправляем запрос на запуск сессии\n",
    "        start_response = stub.StartSession(session_pb2.SessionRequest(session_id=session_id))\n",
    "        # Выводим ответ о запуске сессии\n",
    "        print(start_response.message)\n",
    "\n",
    "        # Отправляем запрос на завершение сессии\n",
    "        end_response = stub.EndSession(session_pb2.SessionRequest(session_id=session_id))\n",
    "        # Выводим ответ о завершении сессии\n",
    "        print(end_response.message)\n",
    "\n",
    "# Запуск клиента\n",
    "run()\n"
   ]
  },
  {
   "cell_type": "code",
   "execution_count": 6,
   "id": "872019b7-9ff5-4a83-a17c-07eb575f6f5c",
   "metadata": {
    "id": "872019b7-9ff5-4a83-a17c-07eb575f6f5c",
    "outputId": "a2990a66-e3ca-4cf4-fd75-7d6698733776"
   },
   "outputs": [
    {
     "ename": "ModuleNotFoundError",
     "evalue": "No module named 'cryptography'",
     "output_type": "error",
     "traceback": [
      "\u001b[0;31m---------------------------------------------------------------------------\u001b[0m",
      "\u001b[0;31mModuleNotFoundError\u001b[0m                       Traceback (most recent call last)",
      "Cell \u001b[0;32mIn[6], line 5\u001b[0m\n\u001b[1;32m      3\u001b[0m \u001b[38;5;28;01mimport\u001b[39;00m \u001b[38;5;21;01mgzip\u001b[39;00m\n\u001b[1;32m      4\u001b[0m \u001b[38;5;28;01mimport\u001b[39;00m \u001b[38;5;21;01mbase64\u001b[39;00m\n\u001b[0;32m----> 5\u001b[0m \u001b[38;5;28;01mfrom\u001b[39;00m \u001b[38;5;21;01mcryptography\u001b[39;00m\u001b[38;5;21;01m.\u001b[39;00m\u001b[38;5;21;01mfernet\u001b[39;00m \u001b[38;5;28;01mimport\u001b[39;00m Fernet\n\u001b[1;32m      7\u001b[0m \u001b[38;5;66;03m# Генерация ключа для шифрования\u001b[39;00m\n\u001b[1;32m      8\u001b[0m key \u001b[38;5;241m=\u001b[39m Fernet\u001b[38;5;241m.\u001b[39mgenerate_key()\n",
      "\u001b[0;31mModuleNotFoundError\u001b[0m: No module named 'cryptography'"
     ]
    }
   ],
   "source": [
    "# 6. Уровень представления\n",
    "\n",
    "import gzip\n",
    "import base64\n",
    "from cryptography.fernet import Fernet\n",
    "\n",
    "# Генерация ключа для шифрования\n",
    "key = Fernet.generate_key()\n",
    "cipher_suite = Fernet(key)\n",
    "\n",
    "# Данные для шифрования\n",
    "data = \"Пример данных для шифрования и сжатия.\" * 5\n",
    "\n",
    "# Шифрование данных\n",
    "encrypted_data = cipher_suite.encrypt(data.encode('utf-8'))\n",
    "print(f\"Зашифрованные данные: {base64.urlsafe_b64encode(encrypted_data).decode()}\")\n",
    "print(f\"Размер зашифрованных данных: {len(encrypted_data)} байт\")\n",
    "\n",
    "# Сжатие зашифрованных данных\n",
    "compressed_data = gzip.compress(encrypted_data)\n",
    "print(f\"Сжатые данные: {base64.urlsafe_b64encode(compressed_data).decode()}\")\n",
    "print(f\"Размер сжатых данных: {len(compressed_data)} байт\")\n",
    "\n",
    "# Распаковка сжатых данных\n",
    "decompressed_data = gzip.decompress(compressed_data)\n",
    "\n",
    "# Расшифровка данных\n",
    "decrypted_data = cipher_suite.decrypt(decompressed_data).decode('utf-8')\n",
    "print(f\"Расшифрованные данные: {decrypted_data}\")\n"
   ]
  },
  {
   "cell_type": "code",
   "execution_count": 7,
   "id": "01e39155-d48b-4d60-bfaa-dbe08d127e62",
   "metadata": {
    "id": "01e39155-d48b-4d60-bfaa-dbe08d127e62",
    "outputId": "571c9d9e-a9b5-4204-ed9d-62c1fde1ce9b"
   },
   "outputs": [
    {
     "name": "stdout",
     "output_type": "stream",
     "text": [
      "GET-запрос успешен!\n",
      "Содержимое страницы:\n",
      "[\n",
      "  {\n",
      "    \"userId\": 1,\n",
      "    \"id\": 1,\n",
      "    \"title\": \"sunt aut facere repellat provident occaecati excepturi optio reprehenderit\",\n",
      "    \"body\": \"quia et suscipit\\nsuscipit recusandae consequuntur expedita et cum\\nreprehenderit molestiae ut ut quas totam\\nnostrum rerum est autem sunt rem eveniet architecto\"\n",
      "  },\n",
      "  {\n",
      "    \"userId\": 1,\n",
      "    \"id\": 2,\n",
      "    \"title\": \"qui est esse\",\n",
      "    \"body\": \"est rerum tempore vitae\\nsequi sint nihil reprehenderit dolor beatae ea dolores neque\\nfugiat blanditiis voluptate p\n",
      "POST-запрос успешен!\n",
      "Полученные данные:\n",
      "{'title': 'foo', 'body': 'bar', 'userId': 1, 'id': 101}\n"
     ]
    }
   ],
   "source": [
    "# 7. Прикладной уровень\n",
    "\n",
    "import requests\n",
    "\n",
    "# URL для GET-запроса\n",
    "get_url = 'https://jsonplaceholder.typicode.com/posts'\n",
    "\n",
    "# Отправка GET-запроса\n",
    "response_get = requests.get(get_url)\n",
    "\n",
    "# Проверка кода ответа\n",
    "if response_get.status_code == 200:\n",
    "    print(\"GET-запрос успешен!\")\n",
    "    print(\"Содержимое страницы:\")\n",
    "    print(response_get.text[:500])  # Выводим первые 500 символов\n",
    "else:\n",
    "    print(f\"Ошибка при GET-запросе: {response_get.status_code}\")\n",
    "\n",
    "# URL для POST-запроса\n",
    "post_url = 'https://jsonplaceholder.typicode.com/posts'\n",
    "\n",
    "# Данные для отправки\n",
    "post_data = {\n",
    "    'title': 'foo',\n",
    "    'body': 'bar',\n",
    "    'userId': 1\n",
    "}\n",
    "\n",
    "# Отправка POST-запроса\n",
    "response_post = requests.post(post_url, json=post_data)\n",
    "\n",
    "# Проверка кода ответа\n",
    "if response_post.status_code == 201:\n",
    "    print(\"POST-запрос успешен!\")\n",
    "    print(\"Полученные данные:\")\n",
    "    print(response_post.json())\n",
    "else:\n",
    "    print(f\"Ошибка при POST-запросе: {response_post.status_code}\")\n"
   ]
  },
  {
   "cell_type": "markdown",
   "id": "74018309-155b-4769-b392-9f2368bce1b7",
   "metadata": {
    "id": "74018309-155b-4769-b392-9f2368bce1b7"
   },
   "source": [
    "### Пример описания"
   ]
  },
  {
   "cell_type": "code",
   "execution_count": null,
   "id": "d2552c2b-1969-4218-beee-b125ef473a34",
   "metadata": {
    "id": "d2552c2b-1969-4218-beee-b125ef473a34"
   },
   "outputs": [],
   "source": [
    "-------------------| LAN1 (Local Area Network) |-------------------\n",
    "            Уровень приложений (Application Layer)\n",
    "               [Хост (Браузер)]\n",
    "                       |\n",
    "                       | 1. Инициация соединения (TCP)\n",
    "                       | - Установление TCP-соединения\n",
    "                       | - Передача IP-адреса и порта (обычно 80 для HTTP)\n",
    "                       | - Процесс:\n",
    "                       | - TCP: SYN -> SYN-ACK -> ACK\n",
    "                       |\n",
    "                       v\n",
    "               Уровень канального протокола (Data Link Layer)\n",
    "               [Коммутатор]\n",
    "                       |\n",
    "                       | 2. Перенаправление запроса\n",
    "                       | - Запрос передается на маршрутизатор\n",
    "                       |\n",
    "                       v\n",
    "\n",
    "            Уровень сетевого протокола (Network Layer)\n",
    "                   [Маршрутизатор]\n",
    "                       |\n",
    "                       | 3. Отправка HTTP-запроса\n",
    "                       | - Формирование HTTP-запроса\n",
    "                       | - Пример запроса: GET /index.html HTTP/1.1\n",
    "                       | - Запрос передается на маршрутизатор\n",
    "                       |\n",
    "                       v\n",
    "-------------------| LAN1 (Local Area Network) |-------------------\n",
    "               Уровень сетевого протокола (Network Layer)\n",
    "                   [Фаервол 1]\n",
    "                       |\n",
    "                       | - Фильтрация трафика на основе правил\n",
    "                       |\n",
    "                       v\n",
    "-------------------| WAN (Wide Area Network)  |-------------------\n",
    "                   [Интернет]\n",
    "                       |\n",
    "                       | 4. Передача запроса\n",
    "                       | - Запрос разбивается на IP-пакеты\n",
    "                       | - Используются протоколы TCP/IP\n",
    "                       | - Пакеты проходят через маршрутизаторы\n",
    "                       |\n",
    "                       v\n",
    "-------------------| WAN (Wide Area Network)  |-------------------\n",
    "-------------------| LAN2 (Local Area Network) |-------------------\n",
    "\n",
    "            Уровень приложений (Application Layer)\n",
    "                   [HTTP-сервер]\n",
    "                       |\n",
    "                       | 5. Обработка и формирование HTTP-ответа\n",
    "                       | - Сервер принимает HTTP-запрос\n",
    "                       | - Обработка (взаимодействие с базой данных, генерация HTML)\n",
    "                       | - Сервер формирует ответ на запрос\n",
    "                       | - Ответ содержит данные, запрашиваемые клиентом\n",
    "                       |\n",
    "                       v\n",
    "\n",
    "            Уровень транспортного протокола (Transport Layer)\n",
    "                   [HTTP-сервер]\n",
    "                       |\n",
    "                       | 6. Отправка HTTP-ответа\n",
    "                       | - Ответ отправляется обратно в интернет\n",
    "                       |\n",
    "                       v\n",
    "-------------------| LAN2 (Local Area Network) |-------------------\n",
    "-------------------| WAN (Wide Area Network)  |-------------------\n",
    "\n",
    "                   [Интернет]\n",
    "                       |\n",
    "                       | 8. Передача ответа\n",
    "                       | - Ответ разбивается на IP-пакеты\n",
    "                       | - Пакеты проходят обратно через маршрутизаторы\n",
    "                       |\n",
    "                       v\n",
    "               Уровень сетевого протокола (Network Layer)\n",
    "                   [Фаервол 1]\n",
    "                       |\n",
    "                       | - Фильтрация трафика на основе правил\n",
    "                       |\n",
    "                       v\n",
    "-------------------| LAN1 (Local Area Network) |-------------------\n",
    "           Уровень сетевого протокола (Network Layer)\n",
    "                   [Маршрутизатор]\n",
    "                       |\n",
    "                       | 9. Получение ответа\n",
    "                       | - Маршрутизатор получает ответ от интернет-провайдера\n",
    "                       | - Ответ передается обратно в локальную сеть\n",
    "                       |\n",
    "                       v\n",
    "           Уровень канального протокола (Data Link Layer)\n",
    "                   [Коммутатор]\n",
    "                       |\n",
    "                       | 10. Передача данных\n",
    "                       | - Получение данных от маршрутизатора\n",
    "                       | - Передача данных на хост\n",
    "                       |\n",
    "                       v\n",
    "\n",
    "            Уровень приложений (Application Layer)\n",
    "                   [Хост (Браузер)]\n",
    "                       |\n",
    "                       | 11. Отображение данных\n",
    "                       | - Получение HTTP-ответа\n",
    "                       | - Браузер отображает данные для пользователя\n",
    "                       |\n",
    "                       v\n",
    "                   [Пользователь]\n",
    "-------------------| LAN1 (Local Area Network) |-------------------\n"
   ]
  },
  {
   "cell_type": "markdown",
   "id": "30b63932-3bb5-4570-9488-920da3306b0d",
   "metadata": {
    "id": "30b63932-3bb5-4570-9488-920da3306b0d"
   },
   "source": [
    "### Диагностика сети"
   ]
  },
  {
   "cell_type": "code",
   "execution_count": 8,
   "id": "c5471186-e667-49b6-bd23-96a8223e595b",
   "metadata": {
    "id": "c5471186-e667-49b6-bd23-96a8223e595b",
    "outputId": "62616d44-6460-4d2a-e7ed-5d8179e30cbf"
   },
   "outputs": [
    {
     "name": "stdin",
     "output_type": "stream",
     "text": [
      "Введите адрес хоста для пинга:  127.0.0.1\n"
     ]
    },
    {
     "name": "stdout",
     "output_type": "stream",
     "text": [
      "PING 127.0.0.1 (127.0.0.1) 56(84) bytes of data.\n",
      "64 bytes from 127.0.0.1: icmp_seq=1 ttl=64 time=0.055 ms\n",
      "64 bytes from 127.0.0.1: icmp_seq=2 ttl=64 time=0.123 ms\n",
      "64 bytes from 127.0.0.1: icmp_seq=3 ttl=64 time=0.081 ms\n",
      "64 bytes from 127.0.0.1: icmp_seq=4 ttl=64 time=0.085 ms\n",
      "\n",
      "--- 127.0.0.1 ping statistics ---\n",
      "4 packets transmitted, 4 received, 0% packet loss, time 3103ms\n",
      "rtt min/avg/max/mdev = 0.055/0.086/0.123/0.024 ms\n",
      "127.0.0.1 доступен.\n"
     ]
    }
   ],
   "source": [
    "import os\n",
    "import platform\n",
    "\n",
    "def ping(host):\n",
    "    # Определяем команду для пинга в зависимости от операционной системы\n",
    "    param = '-n' if platform.system().lower() == 'windows' else '-c'\n",
    "    command = f\"ping {param} 4 {host}\"\n",
    "\n",
    "    response = os.system(command)\n",
    "    return response == 0\n",
    "\n",
    "if __name__ == \"__main__\":\n",
    "    host = input(\"Введите адрес хоста для пинга: \")\n",
    "    if ping(host):\n",
    "        print(f\"{host} доступен.\")\n",
    "    else:\n",
    "        print(f\"{host} недоступен.\")\n"
   ]
  },
  {
   "cell_type": "code",
   "execution_count": 2,
   "id": "9f5a40ad-d01a-4544-a378-6c18c2c8eb7f",
   "metadata": {
    "id": "9f5a40ad-d01a-4544-a378-6c18c2c8eb7f",
    "outputId": "039bec88-65ed-43fd-e37a-96156d34cff7"
   },
   "outputs": [
    {
     "name": "stdin",
     "output_type": "stream",
     "text": [
      "Введите адрес хоста:  12398\n",
      "Введите порты (через запятую):  21\n"
     ]
    },
    {
     "name": "stdout",
     "output_type": "stream",
     "text": [
      "Нет открытых портов на 12398.\n"
     ]
    }
   ],
   "source": [
    "def check_open_ports():\n",
    "    \"\"\"Проверка открытых портов на указанном хосте.\"\"\"\n",
    "    import socket  # Для работы с сетевыми соединениями\n",
    "\n",
    "    # Запрашиваем адрес хоста у пользователя\n",
    "    host = input(\"Введите адрес хоста: \")\n",
    "    # Запрашиваем порты для проверки и преобразуем их в список целых чисел\n",
    "    ports = list(map(int, input(\"Введите порты (через запятую): \").split(',')))\n",
    "\n",
    "    open_ports = []  # Список для хранения открытых портов\n",
    "    # Проходим по каждому порту и проверяем его доступность\n",
    "    for port in ports:\n",
    "        with socket.socket(socket.AF_INET, socket.SOCK_STREAM) as sock:\n",
    "            sock.settimeout(1)  # Устанавливаем таймаут на 1 секунду\n",
    "            # Проверяем, открыт ли порт\n",
    "            if sock.connect_ex((host, port)) == 0:\n",
    "                open_ports.append(port)  # Добавляем открытый порт в список\n",
    "\n",
    "    # Выводим результаты проверки\n",
    "    if open_ports:\n",
    "        print(f\"Открытые порты на {host}: {open_ports}\")\n",
    "    else:\n",
    "        print(f\"Нет открытых портов на {host}.\")\n",
    "\n",
    "check_open_ports()"
   ]
  },
  {
   "cell_type": "code",
   "execution_count": 11,
   "id": "84e8aa3a-9107-42bd-86a5-4f9dcbd77c82",
   "metadata": {
    "id": "84e8aa3a-9107-42bd-86a5-4f9dcbd77c82",
    "outputId": "8daf0ad7-6312-4f8a-d0d8-4ac7457111b1"
   },
   "outputs": [
    {
     "name": "stdin",
     "output_type": "stream",
     "text": [
      "Введите доменное имя:  yandex.ru\n"
     ]
    },
    {
     "name": "stdout",
     "output_type": "stream",
     "text": [
      "IP-адрес yandex.ru: 77.88.44.55\n"
     ]
    }
   ],
   "source": [
    "import socket\n",
    "\n",
    "def resolve_dns(domain):\n",
    "    try:\n",
    "        ip = socket.gethostbyname(domain)\n",
    "        return ip\n",
    "    except socket.error:\n",
    "        return None\n",
    "\n",
    "def main():\n",
    "    domain = input(\"Введите доменное имя: \")\n",
    "    ip = resolve_dns(domain)\n",
    "    if ip:\n",
    "        print(f\"IP-адрес {domain}: {ip}\")\n",
    "    else:\n",
    "        print(f\"Не удалось разрешить доменное имя {domain}.\")\n",
    "\n",
    "if __name__ == \"__main__\":\n",
    "    main()"
   ]
  },
  {
   "cell_type": "code",
   "execution_count": 5,
   "id": "297c9e54-2b54-414a-af4c-eac6d035cbe4",
   "metadata": {
    "id": "297c9e54-2b54-414a-af4c-eac6d035cbe4",
    "outputId": "34c214e6-f4a9-4800-b204-8e0a75d6dd5a"
   },
   "outputs": [
    {
     "name": "stdin",
     "output_type": "stream",
     "text": [
      "Введите IP-адрес:  77.88.44.55\n"
     ]
    },
    {
     "name": "stdout",
     "output_type": "stream",
     "text": [
      "Провайдер: AS208398 Edge Technology Plus d.o.o. Beograd\n",
      "Город: Moscow\n",
      "Штат: Moscow\n",
      "Страна: RU\n"
     ]
    }
   ],
   "source": [
    "def get_provider_info():\n",
    "    \"\"\"Получение информации о провайдере по IP-адресу.\"\"\"\n",
    "    import requests  # Для выполнения HTTP-запросов\n",
    "\n",
    "    # Запрашиваем у пользователя IP-адрес\n",
    "    ip = input(\"Введите IP-адрес: \")\n",
    "    # Выполняем запрос к сервису ipinfo.io для получения информации о провайдере\n",
    "    response = requests.get(f\"https://ipinfo.io/{ip}/json\")\n",
    "\n",
    "    if response.status_code == 200:\n",
    "        # Если запрос успешен, выводим информацию\n",
    "        info = response.json()\n",
    "        print(f\"Провайдер: {info.get('org', 'Неизвестно')}\")\n",
    "        print(f\"Город: {info.get('city', 'Неизвестно')}\")\n",
    "        print(f\"Штат: {info.get('region', 'Неизвестно')}\")\n",
    "        print(f\"Страна: {info.get('country', 'Неизвестно')}\")\n",
    "    else:\n",
    "        print(\"Не удалось получить информацию.\")  # Обработка ошибок\n",
    "get_provider_info()"
   ]
  },
  {
   "cell_type": "code",
   "execution_count": 7,
   "id": "8205fc1e-2bf5-42d0-a304-96be3630882a",
   "metadata": {
    "id": "8205fc1e-2bf5-42d0-a304-96be3630882a"
   },
   "outputs": [
    {
     "name": "stdin",
     "output_type": "stream",
     "text": [
      "Введите адреса хостов для мониторинга (через запятую):  127.0.0.1\n"
     ]
    },
    {
     "name": "stdout",
     "output_type": "stream",
     "text": [
      "PING 127.0.0.1 (127.0.0.1) 56(84) bytes of data.\n",
      "64 bytes from 127.0.0.1: icmp_seq=1 ttl=64 time=0.059 ms\n",
      "\n",
      "127.0.0.1 доступен.\n",
      "--- 127.0.0.1 ping statistics ---\n",
      "1 packets transmitted, 1 received, 0% packet loss, time 0ms\n",
      "rtt min/avg/max/mdev = 0.059/0.059/0.059/0.000 ms\n",
      "Не удалось отправить уведомление: (535, b'5.7.0 NEOBHODIM parol prilozheniya https://help.mail.ru/mail/security/protection/external / Application password is REQUIRED')\n"
     ]
    },
    {
     "ename": "KeyboardInterrupt",
     "evalue": "",
     "output_type": "error",
     "traceback": [
      "\u001b[0;31m---------------------------------------------------------------------------\u001b[0m",
      "\u001b[0;31mKeyboardInterrupt\u001b[0m                         Traceback (most recent call last)",
      "Cell \u001b[0;32mIn[7], line 61\u001b[0m\n\u001b[1;32m     58\u001b[0m         time\u001b[38;5;241m.\u001b[39msleep(\u001b[38;5;241m5\u001b[39m)  \u001b[38;5;66;03m# Интервал 5 секунд между проверками\u001b[39;00m\n\u001b[1;32m     60\u001b[0m \u001b[38;5;28;01mif\u001b[39;00m \u001b[38;5;18m__name__\u001b[39m \u001b[38;5;241m==\u001b[39m \u001b[38;5;124m\"\u001b[39m\u001b[38;5;124m__main__\u001b[39m\u001b[38;5;124m\"\u001b[39m:\n\u001b[0;32m---> 61\u001b[0m     \u001b[43mmonitor_hosts\u001b[49m\u001b[43m(\u001b[49m\u001b[43m)\u001b[49m\n",
      "Cell \u001b[0;32mIn[7], line 58\u001b[0m, in \u001b[0;36mmonitor_hosts\u001b[0;34m()\u001b[0m\n\u001b[1;32m     56\u001b[0m     \u001b[38;5;28;01melse\u001b[39;00m:\n\u001b[1;32m     57\u001b[0m         \u001b[38;5;28mprint\u001b[39m(\u001b[38;5;124mf\u001b[39m\u001b[38;5;124m\"\u001b[39m\u001b[38;5;132;01m{\u001b[39;00mhost\u001b[38;5;132;01m}\u001b[39;00m\u001b[38;5;124m недоступен.\u001b[39m\u001b[38;5;124m\"\u001b[39m)\n\u001b[0;32m---> 58\u001b[0m \u001b[43mtime\u001b[49m\u001b[38;5;241;43m.\u001b[39;49m\u001b[43msleep\u001b[49m\u001b[43m(\u001b[49m\u001b[38;5;241;43m5\u001b[39;49m\u001b[43m)\u001b[49m\n",
      "\u001b[0;31mKeyboardInterrupt\u001b[0m: "
     ]
    }
   ],
   "source": [
    "# Нужно внести не достающие данные вместо ххх\n",
    "\n",
    "import smtplib\n",
    "from email.mime.text import MIMEText\n",
    "from email.mime.multipart import MIMEMultipart\n",
    "import time\n",
    "import os\n",
    "import platform\n",
    "\n",
    "def ping_host(host):\n",
    "    \"\"\"Вспомогательная функция для пинга хоста.\"\"\"\n",
    "    param = '-n' if platform.system().lower() == 'windows' else '-c'\n",
    "    command = f\"ping {param} 1 {host}\"\n",
    "    response = os.system(command)\n",
    "    return response == 0\n",
    "\n",
    "def send_email(host):\n",
    "    \"\"\"Отправка уведомления на почту.\"\"\"\n",
    "    sender_email = \"xxx\"  # Ваш email\n",
    "    receiver_email = \"xxx\"  # Email получателя\n",
    "    password = \"xxx\"  # Ваш пароль\n",
    "\n",
    "    subject = f\"Хост {host} доступен\"\n",
    "    body = f\"Хост {host} доступен для подключения.\"\n",
    "\n",
    "    # Создаем сообщение\n",
    "    msg = MIMEMultipart()\n",
    "    msg['From'] = sender_email\n",
    "    msg['To'] = receiver_email\n",
    "    msg['Subject'] = subject\n",
    "\n",
    "    msg.attach(MIMEText(body, 'plain'))\n",
    "\n",
    "    # Отправка сообщения\n",
    "    try:\n",
    "        with smtplib.SMTP('smtp.bk.ru', 587) as server:\n",
    "            server.starttls()  # Используем TLS\n",
    "            server.login(sender_email, password)  # Вход в почтовый ящик\n",
    "            server.send_message(msg)  # Отправка сообщения\n",
    "        print(f\"Уведомление отправлено на {receiver_email} о доступности {host}.\")\n",
    "    except Exception as e:\n",
    "        print(f\"Не удалось отправить уведомление: {e}\")\n",
    "\n",
    "def monitor_hosts():\n",
    "    \"\"\"Мониторинг доступности указанных хостов.\"\"\"\n",
    "    # Запрашиваем у пользователя адреса хостов для мониторинга\n",
    "    hosts = input(\"Введите адреса хостов для мониторинга (через запятую): \")\n",
    "    hosts = [host.strip() for host in hosts.split(',')]  # Убираем пробелы\n",
    "\n",
    "    while True:  # Бесконечный цикл для постоянного мониторинга\n",
    "        for host in hosts:\n",
    "            # Проверяем доступность каждого хоста\n",
    "            if ping_host(host):\n",
    "                print(f\"{host} доступен.\")\n",
    "                send_email(host)  # Отправка уведомления\n",
    "            else:\n",
    "                print(f\"{host} недоступен.\")\n",
    "        time.sleep(5)  # Интервал 5 секунд между проверками\n",
    "\n",
    "if __name__ == \"__main__\":\n",
    "    monitor_hosts()\n"
   ]
  },
  {
   "cell_type": "code",
   "execution_count": 11,
   "id": "d42a86dc-dbd5-47fe-8184-238a16978b32",
   "metadata": {},
   "outputs": [
    {
     "name": "stdout",
     "output_type": "stream",
     "text": [
      "Content-Type: multipart/mixed; boundary=\"===============1474049422209436633==\"\n",
      "MIME-Version: 1.0\n",
      "From: minecraft-railcraft050@mail.ru\n",
      "To: xxx\n",
      "Subject: =?utf-8?b?0KXQvtGB0YIg0LTQvtGB0YLRg9C/0LXQvQ==?=\n",
      "\n",
      "--===============1474049422209436633==\n",
      "Content-Type: text/plain; charset=\"utf-8\"\n",
      "MIME-Version: 1.0\n",
      "Content-Transfer-Encoding: base64\n",
      "\n",
      "0KXQvtGB0YIg0LTQvtGB0YLRg9C/0LXQvSDQtNC70Y8g0L/QvtC00LrQu9GO0YfQtdC90LjRjy4=\n",
      "\n",
      "--===============1474049422209436633==--\n",
      "\n"
     ]
    }
   ],
   "source": [
    "sender_email = \"minecraft-railcraft050@mail.ru\"  # Ваш email\n",
    "receiver_email = \"xxx\"  # Email получателя\n",
    "password = \"xxx\"  # Ваш пароль\n",
    "\n",
    "subject = f\"Хост доступен\"\n",
    "body = f\"Хост доступен для подключения.\"\n",
    "\n",
    "    # Создаем сообщение\n",
    "msg = MIMEMultipart()\n",
    "msg['From'] = sender_email\n",
    "msg['To'] = receiver_email\n",
    "msg['Subject'] = subject\n",
    "\n",
    "msg.attach(MIMEText(body, 'plain'))\n",
    "print(msg)"
   ]
  }
 ],
 "metadata": {
  "colab": {
   "provenance": []
  },
  "kernelspec": {
   "display_name": "Python 3 (ipykernel)",
   "language": "python",
   "name": "python3"
  },
  "language_info": {
   "codemirror_mode": {
    "name": "ipython",
    "version": 3
   },
   "file_extension": ".py",
   "mimetype": "text/x-python",
   "name": "python",
   "nbconvert_exporter": "python",
   "pygments_lexer": "ipython3",
   "version": "3.12.6"
  }
 },
 "nbformat": 4,
 "nbformat_minor": 5
}
